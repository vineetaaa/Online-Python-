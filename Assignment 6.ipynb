{
 "cells": [
  {
   "cell_type": "markdown",
   "metadata": {},
   "source": [
    "### Question 1: Define Object Oriented Programming Language?\n",
    "\n",
    "### Answer:\n",
    "\n",
    "Object-oriented programming (OOP) is a programming language in which the data type of a data structure is need to be defines, and also the types of operations (functions) that can be applied to the data structure. In this way, the data structure becomes an object that includes both data and functions. In OOP, relationships can be created between one object and another. For example, objects can inherit characteristics from other objects.\n",
    "\n"
   ]
  },
  {
   "cell_type": "markdown",
   "metadata": {},
   "source": [
    "### Question 2: List down the Benefits of OOP?\n",
    "\n",
    "### Answer\n",
    "- One of the principal advantages of object-oriented programming techniques over procedural programming techniques is that they enable programmers to create modules that do not need to be changed when a new type of object is added.\n",
    "- It provides a clear modular structure for programs which makes it good for defining abstract datatypes in which implementation details are hidden\n",
    "- Objects can also be reused within an across applications. The reuse of software also lowers the cost of development. More effort is put into the object-oriented analysis and design, which lowers the overall cost of development.\n",
    "- It makes software easier to maintain. Since the design is modular, part of the system can be updated in case of issues without a need to make large-scale changes\n",
    "- Reuse also enables faster development. Object-oriented programming languages come with rich libraries of objects, and code developed during projects is also reusable in future projects."
   ]
  },
  {
   "cell_type": "markdown",
   "metadata": {},
   "source": [
    "### Question 3: Differentiate between function and method?\n",
    "\n",
    "### Answer:\n",
    "\n",
    "A function is a piece of code that is called by name. It can be passed data to operate on (i.e. the parameters) and can optionally return data (the return value). All data that is passed to a function is explicitly passed.\n",
    "\n",
    "A method is a piece of code that is called by a name that is associated with an object. In most respects it is identical to a function except for two key differences:\n",
    "\n",
    "1. A method is implicitly passed the object on which it was called.\n",
    "2. A method is able to operate on data that is contained within the class (remembering that an object is an instance of a class - the class is the definition, the object is an instance of that data)."
   ]
  },
  {
   "cell_type": "markdown",
   "metadata": {},
   "source": [
    "### Question 4: Define the following terms: \n",
    "1. Class\n",
    "2. Object\n",
    "3. Attribute\n",
    "4. Behavior\n",
    "\n",
    "### Answer:\n",
    "\n",
    "#### Class: \n",
    "A class is a collection of method and variables. It is a blueprint that defines the data and behavior of a type. Like Human Being, having body parts, performing various actions.\n",
    "A class can be defined using the class keyword and the class body enclosed by a pair of curly braces.\n",
    "#### Object:\n",
    "Each object is an instance of a particular class or subclass with the class's own methods or procedures and data variables. An object is what actually runs in the computer.\n",
    "#### Attribute:\n",
    "An Attribute is a named property of a class. It has a type. It describes the range of values that that property may hold.\n",
    "#### Behavior:\n",
    "The behavior of an object is defined by its methods, which are the functions and subroutines defined within the object class. Without class methods, a class would simply be a structure. A class that inherits another class can also override methods of the inherited class to enhance or change its behavior. If the new class changes a method's behavior, it overrides the method and doesn't call the base class's method.\n",
    "\n"
   ]
  },
  {
   "cell_type": "code",
   "execution_count": 2,
   "metadata": {},
   "outputs": [],
   "source": [
    "# Question 5\n",
    "\n",
    "# Creates class Car\n",
    "class Car:\n",
    "\n",
    "    # create class attributes\n",
    "    name = \"Corolla\"\n",
    "    company = \"Toyota\"\n",
    "    model = 2008\n",
    "    color = \"black\"\n",
    "    \n",
    "\n",
    "    # create class methods\n",
    "    def start(self):\n",
    "        print (\"Engine started\")\n",
    "\n",
    "    def stop(self):\n",
    "        print (\"Engine switched off\")\n",
    "        \n",
    "    def play(radio):\n",
    "        print(\"Radio played\")\n",
    "        \n",
    "# Creates car_a object of Car class\n",
    "car_a = Car()\n",
    "\n",
    "# Creates car_b object of car class\n",
    "car_b = Car()\n",
    "    \n",
    "# Creates car_c object of car class\n",
    "car_bc = Car()\n",
    "        \n",
    "\n",
    "\n"
   ]
  },
  {
   "cell_type": "code",
   "execution_count": 3,
   "metadata": {},
   "outputs": [
    {
     "name": "stdout",
     "output_type": "stream",
     "text": [
      "<class '__main__.Car'>\n"
     ]
    }
   ],
   "source": [
    "print(type(car_b))"
   ]
  },
  {
   "cell_type": "code",
   "execution_count": 4,
   "metadata": {},
   "outputs": [
    {
     "name": "stdout",
     "output_type": "stream",
     "text": [
      "Engine started\n"
     ]
    }
   ],
   "source": [
    "car_b.start()"
   ]
  },
  {
   "cell_type": "code",
   "execution_count": 5,
   "metadata": {},
   "outputs": [
    {
     "name": "stdout",
     "output_type": "stream",
     "text": [
      "2008\n"
     ]
    }
   ],
   "source": [
    "print(car_b.model)"
   ]
  },
  {
   "cell_type": "code",
   "execution_count": null,
   "metadata": {},
   "outputs": [],
   "source": []
  }
 ],
 "metadata": {
  "kernelspec": {
   "display_name": "Python 3",
   "language": "python",
   "name": "python3"
  },
  "language_info": {
   "codemirror_mode": {
    "name": "ipython",
    "version": 3
   },
   "file_extension": ".py",
   "mimetype": "text/x-python",
   "name": "python",
   "nbconvert_exporter": "python",
   "pygments_lexer": "ipython3",
   "version": "3.7.1"
  }
 },
 "nbformat": 4,
 "nbformat_minor": 2
}
