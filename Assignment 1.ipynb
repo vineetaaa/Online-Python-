{
 "cells": [
  {
   "cell_type": "code",
   "execution_count": 13,
   "metadata": {},
   "outputs": [
    {
     "name": "stdout",
     "output_type": "stream",
     "text": [
      "Twinkle, twinkle, little star,\n",
      "       How I wonder what you are!\n",
      "              Up above the world so high,\n",
      "              How I wonder what you are!\n",
      "       Up above the world so high,\n",
      "Twinkle, twinkle, little star,\n"
     ]
    }
   ],
   "source": [
    "#Question 1\n",
    "\n",
    "a = \"Twinkle, twinkle, little star,\"\n",
    "b = \"How I wonder what you are!\"\n",
    "c = \"Up above the world so high,\"\n",
    "d = \"Like a diamond in the sky. \"\n",
    "print (a+\"\\n\"+\"       \"+b+\"\\n\"+\"       \"+\"       \"+c+\"\\n\"+\"       \"+\"       \"+b+\"\\n\"+\"       \"+c+\"\\n\"+a)"
   ]
  },
  {
   "cell_type": "code",
   "execution_count": 14,
   "metadata": {},
   "outputs": [
    {
     "name": "stdout",
     "output_type": "stream",
     "text": [
      "3.7.1\n"
     ]
    }
   ],
   "source": [
    "#Question 2\n",
    "\n",
    "from platform import python_version\n",
    "print(python_version())"
   ]
  },
  {
   "cell_type": "code",
   "execution_count": 15,
   "metadata": {},
   "outputs": [
    {
     "name": "stdout",
     "output_type": "stream",
     "text": [
      "Current date and time : \n",
      "2019-11-05 16:57:41\n"
     ]
    }
   ],
   "source": [
    "#Question 3\n",
    "\n",
    "import datetime\n",
    "now = datetime.datetime.now()\n",
    "print (\"Current date and time : \")\n",
    "print (now.strftime(\"%Y-%m-%d %H:%M:%S\"))"
   ]
  },
  {
   "cell_type": "code",
   "execution_count": 16,
   "metadata": {},
   "outputs": [
    {
     "name": "stdout",
     "output_type": "stream",
     "text": [
      "Radius of the circle : 4\n",
      "The area of the circle with radius 4.0 is: 50.272\n"
     ]
    }
   ],
   "source": [
    "#Question 4\n",
    "\n",
    "a = float(input (\"Enter the Radius of the circle : \"))\n",
    "print (\"The area of the circle with radius \" + str(a) + \" is: \" + str(3.142 * a**2))"
   ]
  },
  {
   "cell_type": "code",
   "execution_count": 18,
   "metadata": {},
   "outputs": [
    {
     "name": "stdout",
     "output_type": "stream",
     "text": [
      "Enter First Name : Vineeta\n",
      "Enter Last Name : Punjabi\n",
      "Full Name in Reverse Order :Punjabi Vineeta\n"
     ]
    }
   ],
   "source": [
    "#Question 5\n",
    "\n",
    "f = (input (\"Enter First Name : \"))\n",
    "l = (input (\"Enter Last Name : \"))\n",
    "print (\"Full Name in Reverse Order :\" + l + \" \" + f)"
   ]
  },
  {
   "cell_type": "code",
   "execution_count": 28,
   "metadata": {},
   "outputs": [
    {
     "name": "stdout",
     "output_type": "stream",
     "text": [
      "Enter First Number : 56\n",
      "Enter Second Number : 44\n",
      "The sum of 56 and 44 is 100.0\n"
     ]
    }
   ],
   "source": [
    "#Question 6\n",
    "\n",
    "x = (input (\"Enter First Number : \"))\n",
    "y = (input (\"Enter Second Number : \"))\n",
    "sum = float(x) + float(y)\n",
    "print('The sum of {0} and {1} is {2}'.format(x, y, sum))"
   ]
  }
 ],
 "metadata": {
  "kernelspec": {
   "display_name": "Python 3",
   "language": "python",
   "name": "python3"
  },
  "language_info": {
   "codemirror_mode": {
    "name": "ipython",
    "version": 3
   },
   "file_extension": ".py",
   "mimetype": "text/x-python",
   "name": "python",
   "nbconvert_exporter": "python",
   "pygments_lexer": "ipython3",
   "version": "3.7.1"
  }
 },
 "nbformat": 4,
 "nbformat_minor": 2
}
