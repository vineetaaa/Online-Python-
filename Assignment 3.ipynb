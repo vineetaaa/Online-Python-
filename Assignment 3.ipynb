{
 "cells": [
  {
   "cell_type": "code",
   "execution_count": 3,
   "metadata": {},
   "outputs": [
    {
     "name": "stdout",
     "output_type": "stream",
     "text": [
      "Enter First value: 4\n",
      "Enter Second value: 4\n",
      "Enter Operator: +\n",
      "Answer =  8\n"
     ]
    }
   ],
   "source": [
    "#Q1: Make a calculator using Python with addition , subtraction , multiplication ,division and power.\n",
    "\n",
    "val1 = int(input('Enter First value: '))\n",
    "val2 = int(input('Enter Second value: '))\n",
    "op = input('Enter Operator: ')\n",
    "if op=='+':\n",
    "    val=val1+val2\n",
    "    print('Answer = ',val)\n",
    "elif op=='-':\n",
    "    val=val1-val2\n",
    "    print('Answer = ',val)\n",
    "elif op=='*':\n",
    "    val=val1*val2\n",
    "    print('Answer = ',val)\n",
    "elif op=='/':\n",
    "    val=val1/val2\n",
    "    print('Answer = ',val)\n",
    "elif op=='^':\n",
    "    val=val1**val2\n",
    "    print('Answer = ',val)\n",
    "else:\n",
    "    print('Enter correct Operator')"
   ]
  },
  {
   "cell_type": "code",
   "execution_count": 4,
   "metadata": {},
   "outputs": [
    {
     "name": "stdout",
     "output_type": "stream",
     "text": [
      "Enter First value: 6\n",
      "Enter Second value: 9\n",
      "Enter Operator: -\n",
      "Answer =  -3\n"
     ]
    }
   ],
   "source": [
    "val1 = int(input('Enter First value: '))\n",
    "val2 = int(input('Enter Second value: '))\n",
    "op = input('Enter Operator: ')\n",
    "if op=='+':\n",
    "    val=val1+val2\n",
    "    print('Answer = ',val)\n",
    "elif op=='-':\n",
    "    val=val1-val2\n",
    "    print('Answer = ',val)\n",
    "elif op=='*':\n",
    "    val=val1*val2\n",
    "    print('Answer = ',val)\n",
    "elif op=='/':\n",
    "    val=val1/val2\n",
    "    print('Answer = ',val)\n",
    "elif op=='^':\n",
    "    val=val1**val2\n",
    "    print('Answer = ',val)\n",
    "else:\n",
    "    print('Enter correct Operator')"
   ]
  },
  {
   "cell_type": "code",
   "execution_count": 5,
   "metadata": {},
   "outputs": [
    {
     "name": "stdout",
     "output_type": "stream",
     "text": [
      "Enter First value: 6\n",
      "Enter Second value: 2\n",
      "Enter Operator: ^\n",
      "Answer =  36\n"
     ]
    }
   ],
   "source": [
    "val1 = int(input('Enter First value: '))\n",
    "val2 = int(input('Enter Second value: '))\n",
    "op = input('Enter Operator: ')\n",
    "if op=='+':\n",
    "    val=val1+val2\n",
    "    print('Answer = ',val)\n",
    "elif op=='-':\n",
    "    val=val1-val2\n",
    "    print('Answer = ',val)\n",
    "elif op=='*':\n",
    "    val=val1*val2\n",
    "    print('Answer = ',val)\n",
    "elif op=='/':\n",
    "    val=val1/val2\n",
    "    print('Answer = ',val)\n",
    "elif op=='^':\n",
    "    val=val1**val2\n",
    "    print('Answer = ',val)\n",
    "else:\n",
    "    print('Enter correct Operator')"
   ]
  },
  {
   "cell_type": "code",
   "execution_count": 59,
   "metadata": {},
   "outputs": [
    {
     "name": "stdout",
     "output_type": "stream",
     "text": [
      "yes\n",
      "No\n",
      "No\n",
      "No\n",
      "No\n",
      "yes\n"
     ]
    }
   ],
   "source": [
    "#Q2: Write a program to check if there is any numeric value in list using for loop\n",
    "\n",
    "list=[\"1\",\"two\",\"plus\",\"two\",\"equals\",\"4\"]\n",
    "for value in list:\n",
    "    if (value.isnumeric())==True:\n",
    "        print(\"yes\")\n",
    "    else:\n",
    "        print(\"No\")\n",
    "    \n"
   ]
  },
  {
   "cell_type": "code",
   "execution_count": 60,
   "metadata": {},
   "outputs": [
    {
     "name": "stdout",
     "output_type": "stream",
     "text": [
      "{'Name': 'Vineeta', 'ID': 'M041', 'Semester': 8, 'Section': 'A'}\n"
     ]
    }
   ],
   "source": [
    "#Q3: Write a Python script to add a key to a dictionary\n",
    "\n",
    "student1={\n",
    "    \"Name\":\"Vineeta\",\n",
    "    \"ID\":\"M041\",\n",
    "    \"Semester\":8\n",
    "}\n",
    "\n",
    "student1[\"Section\"]='A'\n",
    "\n",
    "print(student1)"
   ]
  },
  {
   "cell_type": "code",
   "execution_count": 17,
   "metadata": {},
   "outputs": [
    {
     "name": "stdout",
     "output_type": "stream",
     "text": [
      "Sum: 22\n"
     ]
    }
   ],
   "source": [
    "#Q4: Write a Python program to sum all the numeric items in a dictionary\n",
    "\n",
    "sum_of_values={\n",
    "    \"val1\":4,\n",
    "    \"val2\":8,\n",
    "    \"val3\":10\n",
    "}\n",
    "print(\"Sum:\", sum(sum_of_values.values()))"
   ]
  },
  {
   "cell_type": "code",
   "execution_count": 19,
   "metadata": {},
   "outputs": [
    {
     "name": "stdout",
     "output_type": "stream",
     "text": [
      "[1, 99, 76, 55, 6, 8]\n"
     ]
    }
   ],
   "source": [
    "#Q5: Write a program to identify duplicate values from list\n",
    "\n",
    "lst = [ 1,1,2,55,77,54,65,99,99,56,76,76,1,55,6,8,6,8]\n",
    "dupItems = []\n",
    "uniqItems = {}\n",
    "for x in lst:\n",
    "   if x not in uniqItems:\n",
    "      uniqItems[x] = 1\n",
    "   else:\n",
    "      if uniqItems[x] == 1:\n",
    "         dupItems.append(x)\n",
    "      uniqItems[x] += 1\n",
    "print(dupItems)"
   ]
  },
  {
   "cell_type": "code",
   "execution_count": 26,
   "metadata": {},
   "outputs": [
    {
     "name": "stdout",
     "output_type": "stream",
     "text": [
      "Enter key to check:val1\n",
      "Key is present and value of the key is:\n",
      "2\n"
     ]
    }
   ],
   "source": [
    "#Q6: Write a Python script to check if a given key already exists in a dictionary\n",
    "\n",
    "key_check={\n",
    "    \"val1\":2,\n",
    "    \"val2\":4,\n",
    "    \"val3\":6,\n",
    "    \"val4\":8\n",
    "}\n",
    "key=input(\"Enter key to check:\")\n",
    "if key in key_check.keys():\n",
    "      print(\"Key is present and value of the key is:\")\n",
    "      print(key_check[key])\n",
    "else:\n",
    "      print(\"Key is not present.\")"
   ]
  },
  {
   "cell_type": "code",
   "execution_count": 27,
   "metadata": {},
   "outputs": [
    {
     "name": "stdout",
     "output_type": "stream",
     "text": [
      "Enter key to check:val8\n",
      "Key is not present.\n"
     ]
    }
   ],
   "source": [
    "key_check={\n",
    "    \"val1\":2,\n",
    "    \"val2\":4,\n",
    "    \"val3\":6,\n",
    "    \"val4\":8\n",
    "}\n",
    "key=input(\"Enter key to check:\")\n",
    "if key in key_check.keys():\n",
    "      print(\"Key is present and value of the key is:\")\n",
    "      print(key_check[key])\n",
    "else:\n",
    "      print(\"Key is not present.\")"
   ]
  },
  {
   "cell_type": "code",
   "execution_count": null,
   "metadata": {},
   "outputs": [],
   "source": []
  }
 ],
 "metadata": {
  "kernelspec": {
   "display_name": "Python 3",
   "language": "python",
   "name": "python3"
  },
  "language_info": {
   "codemirror_mode": {
    "name": "ipython",
    "version": 3
   },
   "file_extension": ".py",
   "mimetype": "text/x-python",
   "name": "python",
   "nbconvert_exporter": "python",
   "pygments_lexer": "ipython3",
   "version": "3.7.1"
  }
 },
 "nbformat": 4,
 "nbformat_minor": 2
}
